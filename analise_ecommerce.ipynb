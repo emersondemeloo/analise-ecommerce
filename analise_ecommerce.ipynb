import pandas as pd
import matplotlib.pyplot as plt
import seaborn as sns
import numpy as np

# Carregar o arquivo CSV
df = pd.read_csv(r'C:/Users/emerson.melo/Downloads/ecommerce_preparados.csv')

# Visualizar as primeiras linhas
print(df.head().to_string())

plt.figure(figsize=(8,5))
sns.histplot(df['Preço'], bins=20, kde=True)
plt.title('Distribuição dos Preços')
plt.xlabel('Preço')
plt.ylabel('Frequência')
plt.show()

plt.figure(figsize=(8,5))
sns.scatterplot(data=df, x='Desconto', y='Nota', hue='Gênero')
plt.title('Desconto vs Nota dos Produtos por Gênero')
plt.xlabel('Desconto (%)')
plt.ylabel('Nota')
plt.show()

def limpar_qtd_vendidos(valor):
    if isinstance(valor, str):
        valor = valor.lower().replace('+', '').replace('mil', '').replace('.', '').strip()
        try:
            return float(valor) * 1000
        except:
            return np.nan
    return valor

df['Qtd_Vendidos'] = df['Qtd_Vendidos'].apply(limpar_qtd_vendidos)


plt.figure(figsize=(12,8))
corr_matrix = df[['Nota', 'N_Avaliações', 'Desconto', 'Preço', 'Qtd_Vendidos']].corr()
sns.heatmap(corr_matrix, annot=True, cmap='YlOrRd')
plt.title('Mapa de Calor — Correlações entre Métricas')
plt.show()

top_marcas = df.groupby('Marca')['Qtd_Vendidos'].sum().sort_values(ascending=False)

plt.figure(figsize=(10,6))
sns.barplot(x=top_marcas.index, y=top_marcas.values, color='teal')
plt.title('Total Vendido por Marca')
plt.xlabel('Marca')
plt.ylabel('Quantidade Vendida')
plt.xticks(rotation=45)
plt.show()


generos = df['Gênero'].value_counts()

plt.figure(figsize=(6,6))
plt.pie(generos, labels=generos.index, autopct='%1.1f%%', startangle=140, colors=sns.color_palette('pastel'))
plt.title('Distribuição de Gêneros de Produtos')
plt.show()

plt.figure(figsize=(8,5))
sns.kdeplot(df['Nota'], fill=True, color='purple')  # substituindo shade por fill
plt.title('Densidade das Notas dos Produtos')
plt.xlabel('Nota')
plt.show()


plt.figure(figsize=(8,5))
sns.regplot(x='Preço', y='Qtd_Vendidos', data=df, line_kws={"color": "red"})
plt.title('Regressão: Preço vs Quantidade Vendida')
plt.xlabel('Preço')
plt.ylabel('Qtd Vendidos')
plt.show()